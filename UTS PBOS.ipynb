{
 "cells": [
  {
   "cell_type": "code",
   "execution_count": 44,
   "id": "226e1d3b",
   "metadata": {},
   "outputs": [
    {
     "name": "stdout",
     "output_type": "stream",
     "text": [
      "                                                cv\n",
      "=====================================================================\n",
      "Data Diri:\n",
      " \n",
      "Nama                  : yunus\n",
      "Agama                 : Kristen\n",
      "alamat                :  bengkayang,kalimatan barat\n",
      " \n",
      "=====================================================================\n",
      "PENDIDIKAN FORMAL :\n",
      " \n",
      "2008 - 2014           : SD N 1 Sanggau Ledo\n",
      "2014 - 2017           : SMP N 01 Sanggau Ledo\n",
      "2017 - 2020           : SMA N 1 Sanggau Ledo\n",
      "PENDIDIKAN NON FORMAL\n",
      "2003 - 2021           : -\n",
      " \n",
      "=====================================================================\n",
      "Organisasi :\n",
      " \n",
      "KOMPASADO(komunitas pencinta alam sanggauledo)\n",
      " \n",
      "=====================================================================\n",
      "PENGALAMAN KERJA :\n",
      " \n",
      "2020 - 2021           : kuli coding\n",
      " \n",
      "=====================================================================\n",
      "PRESTASI :\n",
      " \n",
      " penganguran garis tengah\n",
      " \n",
      "=====================================================================\n",
      "Demikian Ini Daftar Riwayat Hidup (untuk memenuhi tugas bapak adit yang baik ).\n",
      " \n",
      "Pontianak,29 oktober2021\n",
      " \n",
      "Hormat saya,\n",
      "\n",
      "\n",
      "\n",
      "yunus\n"
     ]
    }
   ],
   "source": [
    "surat = \" cv\"\n",
    "judul_1 =\"Data Diri:\"\n",
    "Nama = \"yunus\"\n",
    "alamat = \" bengkayang,kalimatan barat\"\n",
    "judul_2 = \"PENDIDIKAN FORMAL :\"\n",
    "SD = \"SD N 1 Sanggau Ledo\"\n",
    "SMP = \"SMP N 01 Sanggau Ledo\"\n",
    "SMA = \"SMA N 1 Sanggau Ledo\"\n",
    "judul_3 = \"PENDIDIKAN NON FORMAL\"\n",
    "PENDIDIKAN_NON_FORMAL = \"-\"\n",
    "judul_4 = \"Organisasi :\"\n",
    "ORGANISASI = \"KOMPASADO(komunitas pencinta alam sanggauledo)\"\n",
    "judul_5 = \"PENGALAMAN KERJA :\"\n",
    "PENGALAMAN_KERJA = \"kuli coding\"\n",
    "judul_6 = \"PRESTASI :\"\n",
    "PRESTASI = \"\"\" penganguran garis tengah\"\"\"\n",
    "Penutup = \"Demikian Ini Daftar Riwayat Hidup (untuk memenuhi tugas bapak adit yang baik ).\"\n",
    "Tempat_Tanggal_Pembuatan = \"Pontianak,29 oktober2021\"\n",
    "TTD = \"\"\"Hormat saya,\n",
    "\n",
    "\n",
    "\n",
    "yunus\"\"\"\n",
    "#cetak\n",
    "print('{:>50}'.format(surat))\n",
    "print(\"=====================================================================\")\n",
    "print (judul_1)\n",
    "print (\" \")\n",
    "print(\"Nama                  :\", Nama)\n",
    "print(\"Agama                 :\",  Agama)\n",
    "print(\"alamat                :\",alamat)\n",
    "print (\" \")\n",
    "print(\"=====================================================================\")\n",
    "print (judul_2)\n",
    "print (\" \")\n",
    "print(\"2008 - 2014           :\", SD)\n",
    "print(\"2014 - 2017           :\",SMP)\n",
    "print(\"2017 - 2020           :\",SMA)\n",
    "print (judul_3)\n",
    "print(\"2003 - 2021           :\",  PENDIDIKAN_NON_FORMAL)\n",
    "print (\" \")\n",
    "print(\"=====================================================================\")\n",
    "print (judul_4)\n",
    "print (\" \")\n",
    "print(ORGANISASI)\n",
    "print (\" \")\n",
    "print(\"=====================================================================\")\n",
    "print (judul_5)\n",
    "print (\" \")\n",
    "print(\"2020 - 2021           :\", PENGALAMAN_KERJA)\n",
    "print (\" \")\n",
    "print(\"=====================================================================\")\n",
    "print (judul_6)\n",
    "print (\" \")\n",
    "print(PRESTASI)\n",
    "print (\" \")\n",
    "print(\"=====================================================================\")\n",
    "print (Penutup)\n",
    "print (\" \")\n",
    "print (Tempat_Tanggal_Pembuatan)\n",
    "print (\" \")\n",
    "print (TTD)"
   ]
  },
  {
   "cell_type": "code",
   "execution_count": 23,
   "id": "996d467a",
   "metadata": {},
   "outputs": [
    {
     "name": "stdout",
     "output_type": "stream",
     "text": [
      "Panjang = 2\n",
      "Lebar = 4\n",
      "Luas Persegi Panjang =   8\n"
     ]
    }
   ],
   "source": [
    "panjang = int(input(\"Panjang = \"))\n",
    "lebar = int(input(\"Lebar = \"))\n",
    "\n",
    "luas = panjang*lebar\n",
    "\n",
    "print (\"Luas Persegi Panjang =  \",luas)"
   ]
  },
  {
   "cell_type": "code",
   "execution_count": 39,
   "id": "e5ce165c",
   "metadata": {},
   "outputs": [
    {
     "name": "stdout",
     "output_type": "stream",
     "text": [
      "Celcius  = 3\n",
      "Celcius    :  3\n",
      "Reamur     :  2.4000000000000004\n",
      "Fahrenheit :  37.4\n"
     ]
    }
   ],
   "source": [
    "celcius = int(input(\"Celcius  = \"))\n",
    "reamur = celcius*0.8\n",
    "fahrenheit = celcius*1.8 + 32\n",
    "    \n",
    "print(\"Celcius    : \",celcius)\n",
    "print(\"Reamur     : \",reamur)\n",
    "print(\"Fahrenheit : \",fahrenheit)"
   ]
  },
  {
   "cell_type": "code",
   "execution_count": 40,
   "id": "8ee3fcfb",
   "metadata": {},
   "outputs": [
    {
     "name": "stdout",
     "output_type": "stream",
     "text": [
      "Masukkan Jumlah Detik :2000\n",
      "jam :  1\n",
      "menit :  33\n",
      "detik :  20\n",
      "hari  :  0\n"
     ]
    }
   ],
   "source": [
    "detik = int(input(\"Masukkan Jumlah Detik :\"))\n",
    "\n",
    "hari = detik/86400\n",
    "temp1 = detik%86400\n",
    "jam = temp1/3600\n",
    "temp2 = temp1%3600\n",
    "menit = temp2/60\n",
    "detik = temp2%60\n",
    "\n",
    "print (\"jam : \",round(jam))\n",
    "print (\"menit : \",round(menit))\n",
    "print (\"detik : \",round(detik))\n",
    "print (\"hari  : \",round(hari))"
   ]
  },
  {
   "cell_type": "code",
   "execution_count": 37,
   "id": "ecbd0b4b",
   "metadata": {},
   "outputs": [
    {
     "name": "stdout",
     "output_type": "stream",
     "text": [
      "Panjang jari-jari :20\n",
      "Luas Lingkaran : 1257.142857142857\n"
     ]
    }
   ],
   "source": [
    "jari = int(input(\"Panjang jari-jari :\"))\n",
    "phi = 22/7\n",
    "luas = float(phi*jari**2)\n",
    "\n",
    "print (\"Luas Lingkaran :\", luas)"
   ]
  },
  {
   "cell_type": "code",
   "execution_count": null,
   "id": "c27eab9e",
   "metadata": {},
   "outputs": [],
   "source": []
  }
 ],
 "metadata": {
  "kernelspec": {
   "display_name": "Python 3",
   "language": "python",
   "name": "python3"
  },
  "language_info": {
   "codemirror_mode": {
    "name": "ipython",
    "version": 3
   },
   "file_extension": ".py",
   "mimetype": "text/x-python",
   "name": "python",
   "nbconvert_exporter": "python",
   "pygments_lexer": "ipython3",
   "version": "3.8.8"
  }
 },
 "nbformat": 4,
 "nbformat_minor": 5
}
